{
 "cells": [
  {
   "cell_type": "code",
   "execution_count": 15,
   "id": "c0b08ffb",
   "metadata": {},
   "outputs": [],
   "source": [
    "# IMPORTAÇÃO DAS BIBLIOTECAS NECESSÁRIAS\n",
    "import pandas as pd\n",
    "import numpy as np\n",
    "import matplotlib.pyplot as plt\n",
    "import seaborn as sns\n",
    "from sklearn.model_selection import train_test_split\n",
    "from sklearn.tree import DecisionTreeClassifier, plot_tree\n",
    "from sklearn.metrics import confusion_matrix, classification_report, accuracy_score\n",
    "from sklearn.preprocessing import LabelEncoder\n",
    "import warnings\n",
    "warnings.filterwarnings('ignore')"
   ]
  },
  {
   "cell_type": "code",
   "execution_count": 16,
   "id": "49119e3d",
   "metadata": {},
   "outputs": [
    {
     "name": "stdout",
     "output_type": "stream",
     "text": [
      "✓ Dados importados com sucesso!\n",
      "✓ Total de registros: 100\n",
      "\n"
     ]
    }
   ],
   "source": [
    "# Abrindo CSV\n",
    "try:\n",
    "    df = pd.read_csv('C:/Users/dsadm/Desktop/Inteligencia_Artificial_e_Big-Data_2_semestre_ADS/Formativa/dados_produtos.csv', sep=',')\n",
    "    print(\"✓ Dados importados com sucesso!\")\n",
    "    print(f\"✓ Total de registros: {len(df)}\")\n",
    "    print()\n",
    "except FileNotFoundError:\n",
    "    print(\"ERRO: Arquivo não encontrado. Certifique-se de que o arquivo está no diretório correto.\")\n",
    "    print(\"Criando dados de exemplo para demonstração...\")"
   ]
  },
  {
   "cell_type": "code",
   "execution_count": 17,
   "id": "c688c42a",
   "metadata": {},
   "outputs": [
    {
     "name": "stdout",
     "output_type": "stream",
     "text": [
      "Primeiras 5 linhas do conjunto de dados:\n",
      "  product_name  rating  rating_count  purchased\n",
      "0    Televisão    3.04            29          1\n",
      "1      Celular    3.46          3872          0\n",
      "2    Cafeteira    3.25          1187          0\n",
      "3    Televisão    3.77          4097          1\n",
      "4    Videogame    5.00          4738          1\n",
      "\n"
     ]
    }
   ],
   "source": [
    "# Visualizando as primeiras linhas\n",
    "print(\"Primeiras 5 linhas do conjunto de dados:\")\n",
    "print(df.head())\n",
    "print()"
   ]
  },
  {
   "cell_type": "code",
   "execution_count": 18,
   "id": "228748de",
   "metadata": {},
   "outputs": [
    {
     "name": "stdout",
     "output_type": "stream",
     "text": [
      "\n",
      "2.1 - Informações Gerais do Dataset (df.info()):\n",
      "--------------------------------------------------------------------------------\n",
      "<class 'pandas.core.frame.DataFrame'>\n",
      "RangeIndex: 100 entries, 0 to 99\n",
      "Data columns (total 4 columns):\n",
      " #   Column        Non-Null Count  Dtype  \n",
      "---  ------        --------------  -----  \n",
      " 0   product_name  100 non-null    object \n",
      " 1   rating        100 non-null    float64\n",
      " 2   rating_count  100 non-null    int64  \n",
      " 3   purchased     100 non-null    int64  \n",
      "dtypes: float64(1), int64(2), object(1)\n",
      "memory usage: 3.3+ KB\n",
      "None\n",
      "\n"
     ]
    }
   ],
   "source": [
    "# Informações gerais do dataset\n",
    "print(\"\\n2.1 - Informações Gerais do Dataset (df.info()):\")\n",
    "print(\"-\" * 80)\n",
    "print(df.info())\n",
    "print()"
   ]
  },
  {
   "cell_type": "code",
   "execution_count": 19,
   "id": "d1039d1f",
   "metadata": {},
   "outputs": [
    {
     "name": "stdout",
     "output_type": "stream",
     "text": [
      "\n",
      "2.2 - Estatísticas Descritivas (df.describe()):\n",
      "--------------------------------------------------------------------------------\n",
      "           rating  rating_count  purchased\n",
      "count  100.000000    100.000000     100.00\n",
      "mean     4.056900   2536.670000       0.55\n",
      "std      0.588344   1458.312544       0.50\n",
      "min      3.020000     10.000000       0.00\n",
      "25%      3.580000   1433.250000       0.00\n",
      "50%      4.105000   2424.000000       1.00\n",
      "75%      4.505000   3773.000000       1.00\n",
      "max      5.000000   4977.000000       1.00\n",
      "\n"
     ]
    }
   ],
   "source": [
    "# Estatísticas descritivas\n",
    "print(\"\\n2.2 - Estatísticas Descritivas (df.describe()):\")\n",
    "print(\"-\" * 80)\n",
    "print(df.describe())\n",
    "print()"
   ]
  },
  {
   "cell_type": "code",
   "execution_count": 20,
   "id": "66d34df9",
   "metadata": {},
   "outputs": [
    {
     "name": "stdout",
     "output_type": "stream",
     "text": [
      "\n",
      "2.3 - Produtos Disponíveis:\n",
      "--------------------------------------------------------------------------------\n",
      "product_name\n",
      "Celular      21\n",
      "Televisão    19\n",
      "iPod         18\n",
      "Videogame    17\n",
      "Notebook     16\n",
      "Cafeteira     9\n",
      "Name: count, dtype: int64\n",
      "\n"
     ]
    }
   ],
   "source": [
    "# Verificando valores únicos\n",
    "print(\"\\n2.3 - Produtos Disponíveis:\")\n",
    "print(\"-\" * 80)\n",
    "print(df['product_name'].value_counts())\n",
    "print()"
   ]
  },
  {
   "cell_type": "code",
   "execution_count": 21,
   "id": "54a0d0d2",
   "metadata": {},
   "outputs": [
    {
     "name": "stdout",
     "output_type": "stream",
     "text": [
      "\n",
      "2.4 - Distribuição de Compras:\n",
      "--------------------------------------------------------------------------------\n",
      "Comprou (1): 55 (55.00%)\n",
      "Não comprou (0): 45 (45.00%)\n",
      "\n"
     ]
    }
   ],
   "source": [
    "# Distribuição de compras\n",
    "print(\"\\n2.4 - Distribuição de Compras:\")\n",
    "print(\"-\" * 80)\n",
    "print(f\"Comprou (1): {df['purchased'].sum()} ({df['purchased'].sum()/len(df)*100:.2f}%)\")\n",
    "print(f\"Não comprou (0): {(df['purchased']==0).sum()} ({(df['purchased']==0).sum()/len(df)*100:.2f}%)\")\n",
    "print()"
   ]
  },
  {
   "cell_type": "code",
   "execution_count": 22,
   "id": "8ac21529",
   "metadata": {},
   "outputs": [
    {
     "data": {
      "text/plain": [
       "Text(0.5, 0.98, 'ANÁLISE EXPLORATÓRIA DE DADOS')"
      ]
     },
     "execution_count": 22,
     "metadata": {},
     "output_type": "execute_result"
    },
    {
     "data": {
      "image/png": "[encoded data removed]",
      "text/plain": [
       "<Figure size 1500x1000 with 4 Axes>"
      ]
     },
     "metadata": {},
     "output_type": "display_data"
    }
   ],
   "source": [
    "# Gráficos de exploração\n",
    "fig, axes = plt.subplots(2, 2, figsize=(15, 10))\n",
    "fig.suptitle('ANÁLISE EXPLORATÓRIA DE DADOS', fontsize=16, fontweight='bold')"
   ]
  },
  {
   "cell_type": "code",
   "execution_count": 23,
   "id": "06c7e806",
   "metadata": {},
   "outputs": [],
   "source": [
    "# Gráfico 1: Distribuição de Ratings\n",
    "axes[0, 0].hist(df['rating'], bins=20, color='skyblue', edgecolor='black')\n",
    "axes[0, 0].set_title('Distribuição das Notas de Avaliação')\n",
    "axes[0, 0].set_xlabel('Nota (Rating)')\n",
    "axes[0, 0].set_ylabel('Frequência')\n",
    "axes[0, 0].grid(True, alpha=0.3)"
   ]
  },
  {
   "cell_type": "code",
   "execution_count": 24,
   "id": "1ca404e9",
   "metadata": {},
   "outputs": [],
   "source": [
    "# Gráfico 2: Box Plot das notas (verificar outliers)\n",
    "axes[0, 1].boxplot([df[df['product_name']==p]['rating'].values for p in df['product_name'].unique()],\n",
    "                    labels=df['product_name'].unique())\n",
    "axes[0, 1].set_title('Box Plot - Notas por Produto (Detecção de Outliers)')\n",
    "axes[0, 1].set_xlabel('Produto')\n",
    "axes[0, 1].set_ylabel('Nota')\n",
    "axes[0, 1].tick_params(axis='x', rotation=45)\n",
    "axes[0, 1].grid(True, alpha=0.3)"
   ]
  },
  {
   "cell_type": "code",
   "execution_count": 25,
   "id": "0bbbbd1b",
   "metadata": {},
   "outputs": [],
   "source": [
    "# Gráfico 3: Distribuição de Compras\n",
    "compras = df['purchased'].value_counts()\n",
    "axes[1, 0].bar(['Não Comprou', 'Comprou'], compras.values, color=['salmon', 'lightgreen'], edgecolor='black')\n",
    "axes[1, 0].set_title('Distribuição de Compras')\n",
    "axes[1, 0].set_ylabel('Quantidade')\n",
    "axes[1, 0].grid(True, alpha=0.3)"
   ]
  },
  {
   "cell_type": "code",
   "execution_count": 26,
   "id": "65e653c6",
   "metadata": {},
   "outputs": [
    {
     "name": "stdout",
     "output_type": "stream",
     "text": [
      "✓ Gráficos de exploração salvos como 'exploracao_dados.png'\n",
      "\n"
     ]
    },
    {
     "data": {
      "text/plain": [
       "<Figure size 640x480 with 0 Axes>"
      ]
     },
     "metadata": {},
     "output_type": "display_data"
    }
   ],
   "source": [
    "# Gráfico 4: Relação entre Rating e Compra\n",
    "axes[1, 1].scatter(df[df['purchased']==0]['rating'], \n",
    "                   df[df['purchased']==0]['rating_count'], \n",
    "                   alpha=0.5, label='Não Comprou', color='red')\n",
    "axes[1, 1].scatter(df[df['purchased']==1]['rating'], \n",
    "                   df[df['purchased']==1]['rating_count'], \n",
    "                   alpha=0.5, label='Comprou', color='green')\n",
    "axes[1, 1].set_title('Relação entre Rating, Rating Count e Compra')\n",
    "axes[1, 1].set_xlabel('Nota (Rating)')\n",
    "axes[1, 1].set_ylabel('Quantidade de Avaliações')\n",
    "axes[1, 1].legend()\n",
    "axes[1, 1].grid(True, alpha=0.3)\n",
    "\n",
    "plt.tight_layout()\n",
    "print(\"✓ Gráficos de exploração salvos como 'exploracao_dados.png'\")\n",
    "print()"
   ]
  },
  {
   "cell_type": "code",
   "execution_count": 27,
   "id": "6c21d760",
   "metadata": {},
   "outputs": [
    {
     "name": "stdout",
     "output_type": "stream",
     "text": [
      "\n",
      "3.1 - Verificando Valores Ausentes:\n",
      "--------------------------------------------------------------------------------\n",
      "product_name    0\n",
      "rating          0\n",
      "rating_count    0\n",
      "purchased       0\n",
      "dtype: int64\n",
      "Não há valores ausentes no dataset!\n",
      "\n"
     ]
    }
   ],
   "source": [
    "# Verificando valores ausentes\n",
    "print(\"\\n3.1 - Verificando Valores Ausentes:\")\n",
    "print(\"-\" * 80)\n",
    "valores_ausentes = df.isnull().sum()\n",
    "print(valores_ausentes)\n",
    "\n",
    "if valores_ausentes.sum() > 0:\n",
    "    print(\"\\nValores ausentes encontrados. Realizando tratamento...\")\n",
    "    # Preenchendo valores ausentes numéricos com a mediana\n",
    "    df['rating'].fillna(df['rating'].median(), inplace=True)\n",
    "    df['rating_count'].fillna(df['rating_count'].median(), inplace=True)\n",
    "    print(\"Valores ausentes tratados!\")\n",
    "else:\n",
    "    print(\"Não há valores ausentes no dataset!\")\n",
    "print()"
   ]
  },
  {
   "cell_type": "code",
   "execution_count": 28,
   "id": "4acfa284",
   "metadata": {},
   "outputs": [],
   "source": [
    "# Dicionário para armazenar os modelos e resultados\n",
    "modelos = {}\n",
    "resultados = {}"
   ]
  },
  {
   "cell_type": "code",
   "execution_count": 29,
   "id": "83c4dea0",
   "metadata": {},
   "outputs": [
    {
     "name": "stdout",
     "output_type": "stream",
     "text": [
      "\n",
      "Total de produtos para análise: 6\n",
      "Produtos: ['Televisão', 'Celular', 'Cafeteira', 'Videogame', 'iPod', 'Notebook']\n",
      "\n"
     ]
    }
   ],
   "source": [
    "# Lista de produtos únicos\n",
    "produtos = df['product_name'].unique()\n",
    "print(f\"\\nTotal de produtos para análise: {len(produtos)}\")\n",
    "print(\"Produtos:\", list(produtos))\n",
    "print()"
   ]
  },
  {
   "cell_type": "code",
   "execution_count": 30,
   "id": "97016d16",
   "metadata": {},
   "outputs": [
    {
     "name": "stdout",
     "output_type": "stream",
     "text": [
      "\n",
      "================================================================================\n",
      "PRODUTO: TELEVISÃO\n",
      "================================================================================\n",
      "\n",
      "================================================================================\n",
      "PRODUTO: CELULAR\n",
      "================================================================================\n",
      "\n",
      "================================================================================\n",
      "PRODUTO: CAFETEIRA\n",
      "================================================================================\n",
      "\n",
      "================================================================================\n",
      "PRODUTO: VIDEOGAME\n",
      "================================================================================\n",
      "\n",
      "================================================================================\n",
      "PRODUTO: IPOD\n",
      "================================================================================\n",
      "\n",
      "================================================================================\n",
      "PRODUTO: NOTEBOOK\n",
      "================================================================================\n"
     ]
    }
   ],
   "source": [
    "# Loop para criar um modelo para cada produto\n",
    "for produto in produtos:\n",
    "    print(\"\\n\" + \"=\" * 80)\n",
    "    print(f\"PRODUTO: {produto.upper()}\")\n",
    "    print(\"=\" * 80)"
   ]
  },
  {
   "cell_type": "code",
   "execution_count": 31,
   "id": "0b26e895",
   "metadata": {},
   "outputs": [
    {
     "name": "stdout",
     "output_type": "stream",
     "text": [
      "Total de registros para Notebook: 16\n"
     ]
    }
   ],
   "source": [
    "# Filtrar dados apenas do produto atual\n",
    "df_produto = df[df['product_name'] == produto].copy()\n",
    "print(f\"Total de registros para {produto}: {len(df_produto)}\")"
   ]
  },
  {
   "cell_type": "code",
   "execution_count": 32,
   "id": "2a730ebe",
   "metadata": {},
   "outputs": [
    {
     "ename": "SyntaxError",
     "evalue": "'continue' not properly in loop (144141423.py, line 4)",
     "output_type": "error",
     "traceback": [
      "  \u001b[36mCell\u001b[39m\u001b[36m \u001b[39m\u001b[32mIn[32]\u001b[39m\u001b[32m, line 4\u001b[39m\n\u001b[31m    \u001b[39m\u001b[31mcontinue\u001b[39m\n    ^\n\u001b[31mSyntaxError\u001b[39m\u001b[31m:\u001b[39m 'continue' not properly in loop\n"
     ]
    }
   ],
   "source": [
    "# Verificar se há dados suficientes\n",
    "if len(df_produto) < 10:\n",
    "    print(f\"Dados insuficientes para {produto}. Pulando...\")\n",
    "continue\n",
    "    "
   ]
  },
  {
   "cell_type": "code",
   "execution_count": null,
   "id": "8aea2156",
   "metadata": {},
   "outputs": [],
   "source": [
    "# ETAPA 4: Divisão em treinamento e teste\n",
    "print(f\"\\nETAPA 4: Divisão dos Dados ({produto})\")\n",
    "    print(\"-\" * 80)"
   ]
  }
 ],
 "metadata": {
  "kernelspec": {
   "display_name": "Python 3",
   "language": "python",
   "name": "python3"
  },
  "language_info": {
   "codemirror_mode": {
    "name": "ipython",
    "version": 3
   },
   "file_extension": ".py",
   "mimetype": "text/x-python",
   "name": "python",
   "nbconvert_exporter": "python",
   "pygments_lexer": "ipython3",
   "version": "3.13.1"
  }
 },
 "nbformat": 4,
 "nbformat_minor": 5
}
